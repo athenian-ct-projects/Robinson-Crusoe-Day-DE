{
  "nbformat": 4,
  "nbformat_minor": 0,
  "metadata": {
    "colab": {
      "name": "Robinson Crusoe DE.ipynb",
      "provenance": [],
      "collapsed_sections": [],
      "include_colab_link": true
    },
    "kernelspec": {
      "name": "python3",
      "display_name": "Python 3"
    }
  },
  "cells": [
    {
      "cell_type": "markdown",
      "metadata": {
        "id": "view-in-github",
        "colab_type": "text"
      },
      "source": [
        "<a href=\"https://colab.research.google.com/github/athenian-ct-projects/Robinson-Crusoe-Day-DE/blob/master/Robinson_Crusoe_DE.ipynb\" target=\"_parent\"><img src=\"https://colab.research.google.com/assets/colab-badge.svg\" alt=\"Open In Colab\"/></a>"
      ]
    },
    {
      "cell_type": "markdown",
      "metadata": {
        "id": "FWvbuLoQV0rv",
        "colab_type": "text"
      },
      "source": [
        "Robinson Crusoe Day\n",
        "\n",
        "Dane Ericson '23"
      ]
    },
    {
      "cell_type": "code",
      "metadata": {
        "id": "wm-EWeghc6Bn",
        "colab_type": "code",
        "colab": {}
      },
      "source": [
        "def gameover():\n",
        "    print(\"Game over, would you like to try again?\")\n",
        "for i in range (0,100):\n",
        "    for i in range(0,1):\n",
        "        print(\"Hello! You are stranded on a deserted island after a horde of squirrels chased you there. There is nobody else on the island, but it looks like people may have been here before, You get up to see a boar chasing you, and you have a knife, do you stab him?\")\n",
        "        x=(input(\"Yes or No?\"))\n",
        "        if x==(\"yes\"):\n",
        "            print(\"You are very uncoordinated and accidentally stab yourself and die\")\n",
        "            gameover()\n",
        "            break\n",
        "        else:\n",
        "            print(\"The boar is thankful you didn't stab him, and leaves you alone\")\n",
        "        print(\"Now you need to find food. After a long time searching you find a banana tree and a coconut tree? Which one do you choose?\")\n",
        "        y=(input(\"Coconut or Banana?\"))\n",
        "        if y!=\"coconut\" and y!=\"banana\" and y!=\"Coconut\" and y!=\"Banana\":\n",
        "            print (\"That wasn't an option.\")\n",
        "            gameover()\n",
        "            i=2\n",
        "        else:\n",
        "            print (\"Interesting choice.You now need water,you spot a clear lake and a really dirty lake, which do you drink from?\")\n",
        "            z=(input(\"Clear or Dirty\"))\n",
        "        if z!=\"clear\" and z!=\"Clear\":\n",
        "            print(\"As you go to get some water, an Alligator jumps out of the water and quickly eats you.\")\n",
        "            gameover()\n",
        "            i=2\n",
        "        else:\n",
        "                print(\"The water looks clear, but do you want to make a fire to boil it just in case?\")\n",
        "                a=(input(\"Do you boil it?\"))\n",
        "        if a!=\"yes\" and \"Yes\" and \"boil\" and \"Boil\":\n",
        "            print(\"Although the water looked clear, it was infected, and you die of E. coli\")\n",
        "            gameover()\n",
        "        else:\n",
        "            print(\"After getting firewood earlier that night, you need to light the fire, do you use a piece if glass and try to foucus the sunlight, or rub two sticks together to ignite the fire?\")\n",
        "            b=(input(\"Glass or Friction?\"))\n",
        "        if b!= \"friction\" and \"Friction\" and \"sticks\" and \"Sticks\":\n",
        "            print(\"The glass doesn't work because it is dark outside, you quickly freeze to death\") \n",
        "            gameover()\n",
        "            i=2\n",
        "        else:\n",
        "            print(\"Now that you have clean water and a fire, it's time to go to sleep, do you keep the fire going overnight?\")  \n",
        "            c=(input(\"Yes or No?\"))  \n",
        "        if c!= \"yes\" and \"Yes\":\n",
        "            print(\"You underestimated how much temperatures drop at night, and quicly freeze without a fire,\")\n",
        "            gameover()\n",
        "            i=2\n",
        "        else:\n",
        "            print(\"You wake up to the sound of helicopter blades coming towards you, this is your chance to get out of here. Do you shout and wave your arms at the helicopter, or do you make a big fire?\")\n",
        "            d=(input(\"Shout or Fire?\"))\n",
        "        if d!=\"Bonfire\" and \"bonfire\":\n",
        "            print(\"You aren't nearly loud enough to get his attention from the helicopter and he passes you over, you are then attacked by a pack of zebras.\")\n",
        "            gameover()\n",
        "            i=2\n",
        "        else:\n",
        "            print(\"The fire catches the eye of the pilot and he quickly picks you up,and he takes you home to your family\")\n",
        "            print(\"Good job! You have survived this wild adventure, see you next time!\")\n",
        "\n"
      ],
      "execution_count": 0,
      "outputs": []
    }
  ]
}